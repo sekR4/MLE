{
 "cells": [
  {
   "cell_type": "code",
   "execution_count": 1,
   "id": "3cbc08a1",
   "metadata": {},
   "outputs": [],
   "source": [
    "import boto3"
   ]
  },
  {
   "cell_type": "code",
   "execution_count": 2,
   "id": "206bde4a",
   "metadata": {},
   "outputs": [
    {
     "data": {
      "text/plain": [
       "'1.17.99'"
      ]
     },
     "execution_count": 2,
     "metadata": {},
     "output_type": "execute_result"
    }
   ],
   "source": [
    "boto3.__version__"
   ]
  },
  {
   "cell_type": "code",
   "execution_count": 3,
   "id": "0bee643b",
   "metadata": {},
   "outputs": [
    {
     "name": "stdout",
     "output_type": "stream",
     "text": [
      "sagemaker-eu-central-1-092764612399\n"
     ]
    }
   ],
   "source": [
    "# Retrieve the list of existing buckets\n",
    "s3 = boto3.client('s3')\n",
    "response = s3.list_buckets()\n",
    "\n",
    "# Output the bucket names\n",
    "for bucket in response['Buckets']:\n",
    "    print(bucket[\"Name\"])"
   ]
  },
  {
   "cell_type": "code",
   "execution_count": 4,
   "id": "b0ea197e",
   "metadata": {},
   "outputs": [],
   "source": [
    "!touch testfile"
   ]
  },
  {
   "cell_type": "code",
   "execution_count": 5,
   "id": "c292501e",
   "metadata": {},
   "outputs": [],
   "source": [
    "# Filename (path/to/filename), \n",
    "# Bucket (name), \n",
    "# Key (filename)\n",
    "\n",
    "s3.upload_file(\"testfile\", \"sagemaker-eu-central-1-092764612399\",\"testfile\")"
   ]
  },
  {
   "cell_type": "code",
   "execution_count": 6,
   "id": "0c5cfe61",
   "metadata": {},
   "outputs": [],
   "source": [
    "s3.download_file(Bucket=\"sagemaker-eu-central-1-092764612399\",\n",
    "                 Key=\"testfile\", \n",
    "                 Filename=\"testfile\")"
   ]
  }
 ],
 "metadata": {
  "kernelspec": {
   "display_name": "Python 3",
   "language": "python",
   "name": "python3"
  },
  "language_info": {
   "codemirror_mode": {
    "name": "ipython",
    "version": 3
   },
   "file_extension": ".py",
   "mimetype": "text/x-python",
   "name": "python",
   "nbconvert_exporter": "python",
   "pygments_lexer": "ipython3",
   "version": "3.8.10"
  }
 },
 "nbformat": 4,
 "nbformat_minor": 5
}
